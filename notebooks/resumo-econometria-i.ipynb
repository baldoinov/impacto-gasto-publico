{
 "cells": [
  {
   "cell_type": "markdown",
   "metadata": {},
   "source": [
    "# Resumo de Econometria I\n",
    "\n",
    "***\n",
    "\n",
    "O modelo de regressão linear clássico (foco do curso) se baseia nas seguintes hipóteses (para estimação e para inferência):\n",
    "\n",
    "- ***Hipótese 1:*** O modelo de regressão é linear nos parâmetros.\n",
    "- ***Hipótese 2:*** Os valores dos regressores, os $X$, são fixos, ou valores de $X$ são independentes do termo de erro. Aqui, isso significa que exigimos covariância zero entre $u_i$ e cada variável X.\n",
    "- ***Hipótese 3:*** Para os $X$ dados, o valor médio do erro $u_i$ é zero ($E[u_i | X] = 0$).\n",
    "- ***Hipótese 4:*** Para os $X$ dados, a variância de $u_i$ é constante ou homocedástica.\n",
    "- ***Hipótese 5:*** Para os $X$ dados, não há autocorrelação, nem correlação serial, entre os termos de erro.\n",
    "- ***Hipótese 6:*** O número de observações $n$ deve ser maior que o número de parâmetros a serem estimados.\n",
    "- ***Hipótese 7:*** Deve haver variação suficiente nos valores das variáveis $X$.\n",
    "- ***Hipótese 8:*** Não há colinearidade exata entre as variáveis $X$.\n",
    "- ***Hipótese 9:*** O modelo está especificado corretamente, logo não há viés de especificação.\n",
    "- ***Hipótese 10:*** O termo estocástico (de erro) $u_i$ é distribuído normalmente."
   ]
  },
  {
   "cell_type": "code",
   "execution_count": 2,
   "metadata": {},
   "outputs": [],
   "source": [
    "import pandas as pd\n",
    "import numpy as np\n",
    "import statsmodels.api as sm\n",
    "\n",
    "df = pd.read_csv(\"data/raw/exercicio-empirico-01.csv\")\n",
    "df = df[[\"genero\", \"idade\", \"nota1\", \"nota2\", \"fuvest\", \"gosta_curso\", \"frequencia\"]]"
   ]
  },
  {
   "cell_type": "markdown",
   "metadata": {},
   "source": [
    "## Regressão Linear Simples\n",
    "\n",
    "- Estimadores:\n",
    "\n",
    "$$\\hat{\\beta_1} = \\frac{\\sum (X_i - \\overline{X}) (Y_i - \\overline{Y})}{\\sum (X_i - \\overline{X})^2} = \\frac{cov(X, Y)}{var(X)}$$\n",
    "\n",
    "$$\\hat{\\beta_0} = \\overline{Y} - \\hat{\\beta_1} \\overline{X}$$\n",
    "\n",
    "- Precisão dos estimadores:\n",
    "\n",
    "$$var(\\hat{\\beta_1}) = \\frac{\\sigma^2}{\\sum x_i^2}$$\n",
    "\n",
    "$$var(\\hat{\\beta_0}) = \\frac{\\sum X_i^2}{n \\sum x_i^2} \\sigma^2$$\n",
    "\n",
    "$$\\hat{\\sigma^2} = \\frac{\\sum \\hat{u}_i^2}{n - 2}$$\n",
    "\n",
    "- Ajuste da regressão:"
   ]
  },
  {
   "cell_type": "code",
   "execution_count": 36,
   "metadata": {},
   "outputs": [],
   "source": [
    "x = df['nota1']\n",
    "x_mean = df['nota1'].mean()\n",
    "\n",
    "y = df['nota2']\n",
    "y_mean = df['nota2'].mean()\n",
    "\n",
    "cov = sum((x - x_mean) * (y - y_mean))\n",
    "var = sum((x - x_mean) ** 2)\n",
    "\n",
    "# Coeficientes\n",
    "beta_1 = cov / var\n",
    "beta_0 = y_mean - beta_1 * x_mean\n",
    "\n",
    "# Y-previsto e termo de erro \n",
    "y_hat = (beta_0 + beta_1 * x)\n",
    "u = y - y_hat\n",
    "\n",
    "# Variancia do termo de erro\n",
    "sigma_sq_u = sum(u ** 2) / (len(x) - 2)\n",
    "\n",
    "# SQT, SQE E SQR\n",
    "SQT = sum((y - y_mean) ** 2)\n",
    "SQE = sum((y_hat - y_hat.mean()) ** 2)\n",
    "SQR = sum(u ** 2)\n",
    "\n",
    "# R-quadrado\n",
    "r_quadrado = 1 - (SQR/SQT) \n"
   ]
  },
  {
   "cell_type": "code",
   "execution_count": 37,
   "metadata": {},
   "outputs": [
    {
     "data": {
      "text/plain": [
       "0.19805757467824991"
      ]
     },
     "execution_count": 37,
     "metadata": {},
     "output_type": "execute_result"
    }
   ],
   "source": [
    "r_quadrado"
   ]
  },
  {
   "cell_type": "markdown",
   "metadata": {},
   "source": [
    "## Teste de Hipóteses na Regressão Simples"
   ]
  },
  {
   "cell_type": "code",
   "execution_count": 2,
   "metadata": {},
   "outputs": [],
   "source": [
    "# Calcular variâncias, erros padrão e realizar teste-t"
   ]
  },
  {
   "cell_type": "markdown",
   "metadata": {},
   "source": [
    "## Regressão Linear Múltipla"
   ]
  },
  {
   "cell_type": "code",
   "execution_count": 3,
   "metadata": {},
   "outputs": [],
   "source": [
    "# Calcular regressão usando notação matricial"
   ]
  },
  {
   "cell_type": "markdown",
   "metadata": {},
   "source": [
    "## Teste de Hipóteses na Regressão Múltipla"
   ]
  },
  {
   "cell_type": "code",
   "execution_count": 4,
   "metadata": {},
   "outputs": [],
   "source": [
    "# Calcular variâncias, erros padrão, realizar teste-t e teste-F"
   ]
  },
  {
   "cell_type": "markdown",
   "metadata": {},
   "source": [
    "## Demonstrar Viés na Regressão"
   ]
  },
  {
   "cell_type": "code",
   "execution_count": 5,
   "metadata": {},
   "outputs": [],
   "source": [
    "# Mostrar caso onde o parâmetro contém viés por conta de variável omitida"
   ]
  },
  {
   "cell_type": "markdown",
   "metadata": {},
   "source": [
    "## Testes de Heterocedasticidade "
   ]
  },
  {
   "cell_type": "code",
   "execution_count": 6,
   "metadata": {},
   "outputs": [],
   "source": [
    "# Mostrar cálculo dos testes de heterocedasticidade"
   ]
  },
  {
   "cell_type": "markdown",
   "metadata": {},
   "source": [
    "## Correções p/ Heterocedasticidade"
   ]
  },
  {
   "cell_type": "code",
   "execution_count": null,
   "metadata": {},
   "outputs": [],
   "source": []
  },
  {
   "cell_type": "markdown",
   "metadata": {},
   "source": [
    "## Mínimos Quadrados Generalizados"
   ]
  },
  {
   "cell_type": "code",
   "execution_count": null,
   "metadata": {},
   "outputs": [],
   "source": []
  },
  {
   "cell_type": "markdown",
   "metadata": {},
   "source": []
  }
 ],
 "metadata": {
  "kernelspec": {
   "display_name": "Python 3.8.6 64-bit",
   "language": "python",
   "name": "python3"
  },
  "language_info": {
   "codemirror_mode": {
    "name": "ipython",
    "version": 3
   },
   "file_extension": ".py",
   "mimetype": "text/x-python",
   "name": "python",
   "nbconvert_exporter": "python",
   "pygments_lexer": "ipython3",
   "version": "3.8.6"
  },
  "orig_nbformat": 4,
  "vscode": {
   "interpreter": {
    "hash": "7cfd136509320d90c1cb01fa03d1b7c3436995b65c6c0a2aec6badd76f1b3eb8"
   }
  }
 },
 "nbformat": 4,
 "nbformat_minor": 2
}
