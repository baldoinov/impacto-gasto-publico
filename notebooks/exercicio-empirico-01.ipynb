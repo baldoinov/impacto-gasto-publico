{
 "cells": [
  {
   "cell_type": "markdown",
   "metadata": {},
   "source": [
    "# <center> Exercício Empírico I </center>\n",
    "## <center> Econometria I - EAE0324 </center>\n",
    "### <center> Maio 2022 </center>"
   ]
  },
  {
   "cell_type": "markdown",
   "metadata": {},
   "source": [
    "<!--\n",
    "---\n",
    "\"lang\": \"pt-br\",\n",
    "\"title\": \"Exercício Empírico I\",\n",
    "\"subtitle\": \"Econometria I - EAE0324\",\n",
    "\"authors\": [\"Vitor Baldoino - 11766857\"],\n",
    "\"date\": \"Maio 2022\"\n",
    "---\n",
    "-->\n",
    "***\n",
    "\n",
    "> Com o banco de dados do questionário você deve estimar alguns modelos para explicar a nota dos alunos em estatística 2. Você deve explicar porque escolheu as variáveis explicativas e qual o sinal esperado para elas. Depois você deve interpretar os resultados obtidos e o grau de ajuste das regressões. Escolha somente variáveis explicativas contínuas porque até agora não sabemos usar outros tipos de variáveis. ***Que tipo de problema pode surgir pela omissão da(s) variável(eis) que não  é (são) contínua(s)?***\n",
    "> \n",
    "> Como estamos começando agora a estudar inferência, obviamente vocês não precisam se preocupar em verificar a significância estatística dos resultados.\n",
    "> \n",
    "> O trabalho deve ter no máximo 3 páginas. ***A entrega será no até o dia 24/05/22 às 11hs***."
   ]
  },
  {
   "cell_type": "code",
   "execution_count": 76,
   "metadata": {},
   "outputs": [],
   "source": [
    "import pandas as pd\n",
    "import seaborn as sns\n",
    "import matplotlib.pyplot as plt\n",
    "import statsmodels.api as sm\n",
    "\n",
    "\n",
    "sns.set_palette('crest')\n",
    "plt.style.use(['seaborn-paper'])\n",
    "pd.set_option('display.max_columns', 8)"
   ]
  },
  {
   "cell_type": "code",
   "execution_count": 77,
   "metadata": {},
   "outputs": [],
   "source": [
    "df = pd.read_csv(\"data/raw/exercicio-empirico-01.csv\")\n",
    "\n",
    "df_display = df[['genero', 'idade', 'nota1', 'nota2', 'fuvest', 'gosta_curso', 'frequencia']]"
   ]
  },
  {
   "cell_type": "markdown",
   "metadata": {},
   "source": [
    "***\n",
    "\n",
    "## Descrição dos Dados\n",
    "\n",
    "Os dados para este exercício são uma *cross-section* de alunos do curso de Economia da Universidade de São Paulo. Na nossa base de dados, nós temos acesso as seguintes variáveis:"
   ]
  },
  {
   "cell_type": "code",
   "execution_count": 78,
   "metadata": {},
   "outputs": [
    {
     "name": "stdout",
     "output_type": "stream",
     "text": [
      "<class 'pandas.core.frame.DataFrame'>\n",
      "RangeIndex: 45 entries, 0 to 44\n",
      "Data columns (total 12 columns):\n",
      " #   Column            Non-Null Count  Dtype  \n",
      "---  ------            --------------  -----  \n",
      " 0   genero            45 non-null     object \n",
      " 1   idade             45 non-null     int64  \n",
      " 2   nota1             45 non-null     float64\n",
      " 3   nota2             45 non-null     float64\n",
      " 4   fuvest            44 non-null     float64\n",
      " 5   gosta_curso       45 non-null     object \n",
      " 6   frequencia        45 non-null     object \n",
      " 7   gosta_estudo      45 non-null     object \n",
      " 8   ensino_medio      45 non-null     object \n",
      " 9   trabalho          45 non-null     object \n",
      " 10  nasceu_sp         45 non-null     object \n",
      " 11  pretende_estudar  45 non-null     object \n",
      "dtypes: float64(3), int64(1), object(8)\n",
      "memory usage: 4.3+ KB\n"
     ]
    }
   ],
   "source": [
    "df.info()"
   ]
  },
  {
   "cell_type": "markdown",
   "metadata": {},
   "source": [
    "Como indicado na tabela acima, nós possuímos uma observação faltante na variável que apresenta a nota da Fuvest. Essa ausência será tratada posteriormente no código que gera os modelos de regressão. Adicionalmente, como não iremos usar variáveis categóricas neste primeiro momento, eu optei por manter na base apenas as variáveis relevantes para o exercício."
   ]
  },
  {
   "cell_type": "code",
   "execution_count": 79,
   "metadata": {},
   "outputs": [
    {
     "data": {
      "text/html": [
       "<div>\n",
       "<style scoped>\n",
       "    .dataframe tbody tr th:only-of-type {\n",
       "        vertical-align: middle;\n",
       "    }\n",
       "\n",
       "    .dataframe tbody tr th {\n",
       "        vertical-align: top;\n",
       "    }\n",
       "\n",
       "    .dataframe thead th {\n",
       "        text-align: right;\n",
       "    }\n",
       "</style>\n",
       "<table border=\"1\" class=\"dataframe\">\n",
       "  <thead>\n",
       "    <tr style=\"text-align: right;\">\n",
       "      <th></th>\n",
       "      <th>genero</th>\n",
       "      <th>idade</th>\n",
       "      <th>nota1</th>\n",
       "      <th>nota2</th>\n",
       "      <th>fuvest</th>\n",
       "      <th>gosta_curso</th>\n",
       "      <th>frequencia</th>\n",
       "    </tr>\n",
       "  </thead>\n",
       "  <tbody>\n",
       "    <tr>\n",
       "      <th>0</th>\n",
       "      <td>M</td>\n",
       "      <td>23</td>\n",
       "      <td>8.5</td>\n",
       "      <td>8.5</td>\n",
       "      <td>67.0</td>\n",
       "      <td>S</td>\n",
       "      <td>S</td>\n",
       "    </tr>\n",
       "    <tr>\n",
       "      <th>1</th>\n",
       "      <td>M</td>\n",
       "      <td>21</td>\n",
       "      <td>10.0</td>\n",
       "      <td>10.0</td>\n",
       "      <td>71.0</td>\n",
       "      <td>S</td>\n",
       "      <td>S</td>\n",
       "    </tr>\n",
       "    <tr>\n",
       "      <th>2</th>\n",
       "      <td>F</td>\n",
       "      <td>21</td>\n",
       "      <td>8.6</td>\n",
       "      <td>8.3</td>\n",
       "      <td>66.0</td>\n",
       "      <td>S</td>\n",
       "      <td>S</td>\n",
       "    </tr>\n",
       "    <tr>\n",
       "      <th>3</th>\n",
       "      <td>M</td>\n",
       "      <td>23</td>\n",
       "      <td>9.0</td>\n",
       "      <td>6.8</td>\n",
       "      <td>62.0</td>\n",
       "      <td>S</td>\n",
       "      <td>S</td>\n",
       "    </tr>\n",
       "    <tr>\n",
       "      <th>4</th>\n",
       "      <td>M</td>\n",
       "      <td>22</td>\n",
       "      <td>9.5</td>\n",
       "      <td>8.6</td>\n",
       "      <td>68.0</td>\n",
       "      <td>S</td>\n",
       "      <td>S</td>\n",
       "    </tr>\n",
       "  </tbody>\n",
       "</table>\n",
       "</div>"
      ],
      "text/plain": [
       "  genero  idade  nota1  nota2  fuvest gosta_curso frequencia\n",
       "0      M     23    8.5    8.5    67.0           S          S\n",
       "1      M     21   10.0   10.0    71.0           S          S\n",
       "2      F     21    8.6    8.3    66.0           S          S\n",
       "3      M     23    9.0    6.8    62.0           S          S\n",
       "4      M     22    9.5    8.6    68.0           S          S"
      ]
     },
     "execution_count": 79,
     "metadata": {},
     "output_type": "execute_result"
    }
   ],
   "source": [
    "df_display.head()"
   ]
  },
  {
   "cell_type": "markdown",
   "metadata": {},
   "source": [
    "Abaixo, temos uma breve descrição das variáveis contínuas presentes na base. Como é possível ver, a nota em MAE0229 dos alunos é bem distribuída, assemelhando-se a uma normal. Entretanto, a variável de idade possui uma assimetria à direita, algo esperado dado as características dos indivíduos da amostra (estudantes universitários). E as notas de MAE0219 e as notas da Fuvest possuem uma assimetria à esquerda."
   ]
  },
  {
   "cell_type": "code",
   "execution_count": 81,
   "metadata": {},
   "outputs": [
    {
     "data": {
      "image/png": "[encoded data removed]",
      "text/plain": [
       "<Figure size 1080x720 with 4 Axes>"
      ]
     },
     "metadata": {
      "needs_background": "light"
     },
     "output_type": "display_data"
    }
   ],
   "source": [
    "fig, axes = plt.subplots(2, 2, figsize=(15, 10))\n",
    "\n",
    "sns.histplot(x='idade', data=df, kde=True, ax=axes[0, 0])\n",
    "axes[0, 0].set_xlabel('Idade', {'fontname':'Times New Roman', 'fontsize': 12})\n",
    "\n",
    "sns.histplot(x='nota1', data=df, kde=True, ax=axes[0, 1])\n",
    "axes[0, 1].set_xlabel('Nota em MAE0219', {'fontname':'Times New Roman', 'fontsize': 12})\n",
    "\n",
    "sns.histplot(x='nota2', data=df, kde=True, ax=axes[1, 0])\n",
    "axes[1, 0].set_xlabel('Nota em MAE0229', {'fontname':'Times New Roman', 'fontsize': 12})\n",
    "\n",
    "sns.histplot(x='fuvest', data=df, kde=True, ax=axes[1, 1])\n",
    "axes[1, 1].set_xlabel('Nota na Fuvest', {'fontname':'Times New Roman', 'fontsize': 12})\n",
    "\n",
    "fig.tight_layout()\n",
    "plt.show()"
   ]
  },
  {
   "cell_type": "markdown",
   "metadata": {},
   "source": [
    "***\n",
    "\n",
    "## Modelos de Regressão\n",
    "\n",
    "Antes de passar para a estimação dos modelos, é necessário retirar o efeito das diferentes escalas de medidas dos dados. Isto é, como as notas das matérias da Universidade de São Paulo são medidas numa escala de 0 a 10 e a prova da Fuvest é medida em uma escala de 0 a 90, precisamos normalizar (trazer para um intervalo entre 0 e 1) os valores dessas variáveis. Terminado o procedimento descrito, a nova base de dados ficará assim:"
   ]
  },
  {
   "cell_type": "code",
   "execution_count": 82,
   "metadata": {},
   "outputs": [
    {
     "data": {
      "text/html": [
       "<div>\n",
       "<style scoped>\n",
       "    .dataframe tbody tr th:only-of-type {\n",
       "        vertical-align: middle;\n",
       "    }\n",
       "\n",
       "    .dataframe tbody tr th {\n",
       "        vertical-align: top;\n",
       "    }\n",
       "\n",
       "    .dataframe thead th {\n",
       "        text-align: right;\n",
       "    }\n",
       "</style>\n",
       "<table border=\"1\" class=\"dataframe\">\n",
       "  <thead>\n",
       "    <tr style=\"text-align: right;\">\n",
       "      <th></th>\n",
       "      <th>genero</th>\n",
       "      <th>idade</th>\n",
       "      <th>nota1</th>\n",
       "      <th>nota2</th>\n",
       "      <th>fuvest</th>\n",
       "      <th>gosta_curso</th>\n",
       "      <th>frequencia</th>\n",
       "    </tr>\n",
       "  </thead>\n",
       "  <tbody>\n",
       "    <tr>\n",
       "      <th>0</th>\n",
       "      <td>M</td>\n",
       "      <td>23</td>\n",
       "      <td>0.625</td>\n",
       "      <td>0.625</td>\n",
       "      <td>0.68750</td>\n",
       "      <td>S</td>\n",
       "      <td>S</td>\n",
       "    </tr>\n",
       "    <tr>\n",
       "      <th>1</th>\n",
       "      <td>M</td>\n",
       "      <td>21</td>\n",
       "      <td>1.000</td>\n",
       "      <td>1.000</td>\n",
       "      <td>0.81250</td>\n",
       "      <td>S</td>\n",
       "      <td>S</td>\n",
       "    </tr>\n",
       "    <tr>\n",
       "      <th>2</th>\n",
       "      <td>F</td>\n",
       "      <td>21</td>\n",
       "      <td>0.650</td>\n",
       "      <td>0.575</td>\n",
       "      <td>0.65625</td>\n",
       "      <td>S</td>\n",
       "      <td>S</td>\n",
       "    </tr>\n",
       "    <tr>\n",
       "      <th>3</th>\n",
       "      <td>M</td>\n",
       "      <td>23</td>\n",
       "      <td>0.750</td>\n",
       "      <td>0.200</td>\n",
       "      <td>0.53125</td>\n",
       "      <td>S</td>\n",
       "      <td>S</td>\n",
       "    </tr>\n",
       "    <tr>\n",
       "      <th>4</th>\n",
       "      <td>M</td>\n",
       "      <td>22</td>\n",
       "      <td>0.875</td>\n",
       "      <td>0.650</td>\n",
       "      <td>0.71875</td>\n",
       "      <td>S</td>\n",
       "      <td>S</td>\n",
       "    </tr>\n",
       "  </tbody>\n",
       "</table>\n",
       "</div>"
      ],
      "text/plain": [
       "  genero  idade  nota1  nota2   fuvest gosta_curso frequencia\n",
       "0      M     23  0.625  0.625  0.68750           S          S\n",
       "1      M     21  1.000  1.000  0.81250           S          S\n",
       "2      F     21  0.650  0.575  0.65625           S          S\n",
       "3      M     23  0.750  0.200  0.53125           S          S\n",
       "4      M     22  0.875  0.650  0.71875           S          S"
      ]
     },
     "execution_count": 82,
     "metadata": {},
     "output_type": "execute_result"
    }
   ],
   "source": [
    "df_normalized = df.copy(deep=True)\n",
    "\n",
    "columns = ['nota1', 'nota2', 'fuvest']\n",
    "\n",
    "for column in columns:\n",
    "    df_normalized[column] = (df_normalized[column] - df_normalized[column].min()) / (df_normalized[column].max() - df_normalized[column].min())\t\n",
    "\n",
    "df_normalized_display = df_normalized[['genero', 'idade', 'nota1', 'nota2', 'fuvest', 'gosta_curso', 'frequencia']]\n",
    "df_normalized_display.head()"
   ]
  },
  {
   "cell_type": "markdown",
   "metadata": {},
   "source": [
    "Posto isso, podemos estimar o modelo:\n",
    "\n",
    "$$nMAE0229 = \\hat{\\beta_0} + \\hat{\\beta_1}nMAE0219 + \\hat{u}_i$$ \n",
    "\n",
    "Onde $nMAE0229$ é a nota dos alunos em Introdução à Probabilidade e Estatística I e $nMAE0229$ é a nota dos alunos em Introdução à Probabilidade e Estatística II.  "
   ]
  },
  {
   "cell_type": "code",
   "execution_count": 83,
   "metadata": {},
   "outputs": [
    {
     "name": "stdout",
     "output_type": "stream",
     "text": [
      "                            OLS Regression Results                            \n",
      "==============================================================================\n",
      "Dep. Variable:                  nota2   R-squared:                       0.198\n",
      "Model:                            OLS   Adj. R-squared:                  0.179\n",
      "Method:                 Least Squares   F-statistic:                     10.62\n",
      "Date:                Mon, 23 May 2022   Prob (F-statistic):            0.00219\n",
      "Time:                        23:12:12   Log-Likelihood:                 15.114\n",
      "No. Observations:                  45   AIC:                            -26.23\n",
      "Df Residuals:                      43   BIC:                            -22.61\n",
      "Df Model:                           1                                         \n",
      "Covariance Type:            nonrobust                                         \n",
      "==============================================================================\n",
      "                 coef    std err          t      P>|t|      [0.025      0.975]\n",
      "------------------------------------------------------------------------------\n",
      "const          0.1507      0.113      1.339      0.188      -0.076       0.378\n",
      "nota1          0.4599      0.141      3.259      0.002       0.175       0.745\n",
      "==============================================================================\n",
      "Omnibus:                        0.153   Durbin-Watson:                   2.112\n",
      "Prob(Omnibus):                  0.927   Jarque-Bera (JB):                0.296\n",
      "Skew:                          -0.120   Prob(JB):                        0.863\n",
      "Kurtosis:                       2.684   Cond. No.                         8.64\n",
      "==============================================================================\n",
      "\n",
      "Notes:\n",
      "[1] Standard Errors assume that the covariance matrix of the errors is correctly specified.\n"
     ]
    }
   ],
   "source": [
    "X = df_normalized['nota1']\n",
    "X = sm.add_constant(X)\n",
    "\n",
    "Y = df_normalized['nota2']\n",
    "\n",
    "model = sm.OLS(Y, X, missing='drop')\n",
    "results = model.fit()\n",
    "r = results.rsquared\n",
    "\n",
    "print(results.summary())\n"
   ]
  },
  {
   "cell_type": "code",
   "execution_count": 84,
   "metadata": {},
   "outputs": [
    {
     "data": {
      "image/png": "[encoded data removed]",
      "text/plain": [
       "<Figure size 720x720 with 1 Axes>"
      ]
     },
     "metadata": {
      "needs_background": "light"
     },
     "output_type": "display_data"
    }
   ],
   "source": [
    "fig, ax = plt.subplots(1, 1, figsize=(10, 10))\n",
    "\n",
    "sns.regplot(x='nota1', y='nota2', data=df_normalized, ci=None, ax=ax)\n",
    "\n",
    "ax.set_title(\"Nota em MAE0219 vs. Nota em MAE0229\", {'fontname':'Times New Roman', 'fontsize': 15})\n",
    "ax.set_ylabel(\"Nota em MAE0229\", {'fontname':'Times New Roman', 'fontsize': 12})\n",
    "ax.set_xlabel(\"Nota em MAE0219\", {'fontname':'Times New Roman', 'fontsize': 12})\n",
    "\n",
    "ax.text(0.1, 0.9, fr\"$R^2 = {r:.4f}$\", transform=ax.transAxes, bbox=dict(facecolor='white', edgecolor='black'))\n",
    "\n",
    "plt.show()"
   ]
  },
  {
   "cell_type": "markdown",
   "metadata": {},
   "source": [
    "Os resultados da regressão acima dizem que um ponto a mais na nota de Introdução à Probabilidade e Estatística I (MAE0219), está associado a um aumento de $0.4599$ décimos na nota de Introdução à Probabilidade e Estatística II (MAE0229). Esse resultado faz algum sentido lógico, pois é esperado que alunos com mais base se saiam melhores nas matérias que presumem conhecimento prévio.\n",
    "\n",
    "Entretanto, é necessário notar que o $R^2$ da regressão é de $0.1981$, o que significa que o modelo especificado explica apenas 19% da varição da nota em MAE0229. De fato, houve a omissão de variáveis que podem impactar significativamente o grau de ajuste do modelo, tais como a idade dos alunos e o seu nível de preparação ao sair do ensino médio - medido pela nota da Fuvest. \n",
    "\n",
    "Para corrigir o erro de omissão de variável do modelo anterior, estimaremos um novo modelo, dado por:\n",
    "\n",
    "$$nMAE0229 = \\hat{\\beta_0} + \\hat{\\beta_1}nMAE0219 + \\hat{\\beta_2}nFUVEST + \\hat{u}_i$$\n",
    "\n",
    "Onde as varáveis anteriores mantém seu significado e $nFUVEST$ é a nota dos alunos na última prova da FUVEST que prestaram. "
   ]
  },
  {
   "cell_type": "code",
   "execution_count": 85,
   "metadata": {},
   "outputs": [
    {
     "name": "stdout",
     "output_type": "stream",
     "text": [
      "                            OLS Regression Results                            \n",
      "==============================================================================\n",
      "Dep. Variable:                  nota2   R-squared:                       0.224\n",
      "Model:                            OLS   Adj. R-squared:                  0.186\n",
      "Method:                 Least Squares   F-statistic:                     5.912\n",
      "Date:                Mon, 23 May 2022   Prob (F-statistic):            0.00555\n",
      "Time:                        23:12:12   Log-Likelihood:                 15.094\n",
      "No. Observations:                  44   AIC:                            -24.19\n",
      "Df Residuals:                      41   BIC:                            -18.83\n",
      "Df Model:                           2                                         \n",
      "Covariance Type:            nonrobust                                         \n",
      "==============================================================================\n",
      "                 coef    std err          t      P>|t|      [0.025      0.975]\n",
      "------------------------------------------------------------------------------\n",
      "const          0.0846      0.139      0.611      0.545      -0.195       0.364\n",
      "nota1          0.4714      0.147      3.213      0.003       0.175       0.768\n",
      "fuvest         0.0879      0.141      0.622      0.538      -0.198       0.373\n",
      "==============================================================================\n",
      "Omnibus:                        0.057   Durbin-Watson:                   2.151\n",
      "Prob(Omnibus):                  0.972   Jarque-Bera (JB):                0.152\n",
      "Skew:                          -0.078   Prob(JB):                        0.927\n",
      "Kurtosis:                       2.758   Cond. No.                         10.3\n",
      "==============================================================================\n",
      "\n",
      "Notes:\n",
      "[1] Standard Errors assume that the covariance matrix of the errors is correctly specified.\n"
     ]
    }
   ],
   "source": [
    "X = df_normalized[['nota1', 'fuvest']]\n",
    "X = sm.add_constant(X)\n",
    "\n",
    "Y = df_normalized['nota2']\n",
    "\n",
    "model = sm.OLS(Y, X, missing='drop')\n",
    "results = model.fit()\n",
    "\n",
    "print(results.summary())"
   ]
  },
  {
   "cell_type": "markdown",
   "metadata": {},
   "source": [
    "Os resultados da regressão acima indicam que, mantendo a nota em MAE0219 constante, um ponto a mais na prova da Fuvest está associado a um aumento de 8,79% na média de MAE0229. Em outras palavras, dados dois estudantes com a mesma nota em MAE0219, a previsão é que o estudante que tiver obtido a maior nota na Fuvest terá uma nota 8,79% maior em MAE0229.\n",
    "\n",
    "Analogamente, mantendo a nota da Fuvest constante, um aumento na nota de MAE0219 está associado a um aumento de 47% da média de MAE0229.\n",
    "\n",
    "Entretanto, vale notar que o $R^2$ da regressão ainda é baixo - somente 22% da variação da nota em MAE0229 é explicada pelas variáveis da regressão. Isto é um indicativo de que temos outras variáveis no termo de erro $u_i$ que ajudam a explicar melhor a variação da nota de Introdução à Probabilidade e Estatística II. Em última instância, a omissão dessas variáveis (por exemplo, as variáveis categóricas que possuímos nas bases) podem causar um problema de viés dos estimadores da nossa regressão.\n"
   ]
  }
 ],
 "metadata": {
  "interpreter": {
   "hash": "7cfd136509320d90c1cb01fa03d1b7c3436995b65c6c0a2aec6badd76f1b3eb8"
  },
  "kernelspec": {
   "display_name": "Python 3.8.6 64-bit",
   "language": "python",
   "name": "python3"
  },
  "language_info": {
   "codemirror_mode": {
    "name": "ipython",
    "version": 3
   },
   "file_extension": ".py",
   "mimetype": "text/x-python",
   "name": "python",
   "nbconvert_exporter": "python",
   "pygments_lexer": "ipython3",
   "version": "3.8.6"
  },
  "orig_nbformat": 4
 },
 "nbformat": 4,
 "nbformat_minor": 2
}
